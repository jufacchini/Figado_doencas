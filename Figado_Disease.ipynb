{
 "cells": [
  {
   "cell_type": "markdown",
   "metadata": {},
   "source": [
    "# Prevendo os efeitos do álcool em Doenças do Fígado\n",
    "\n",
    "O fígado é um dos maiores e mais importantes órgãos do corpo humano.O peso do fígado é de cerca de 1,36 kg e é de cor marrom avermelhada. O  fígado  desempenha  mais  de  500  funções,  como  produção  de bile,  produção  de proteínas importantes para a coagulação do sangue, purificação do sangue, auxílio na digestão de gorduras, decomposição de glóbulos vermelhos e desintoxicação de produtos químicos nocivos.\n",
    "\n",
    "A doença hepática causada por vírus hepatotrópicos impõe uma carga substancial aos recursos de saúde.O diagnóstico preciso dos pacientes é muito importante na ciência médica.A medicação errada pode levar ao desperdício de dinheiro e tempo para os pacientes, às vezes isso pode levar à perda irreparável(morte)\n",
    "\n",
    "As hepatites virais são um grave problema de saúde pública no Brasil e no mundo. Segundo estimativas, bilhoes de pessoas já tiveram contado com os vírus das hepatites e milhoes são portadores crônicos. O termo hepatite viral geralmente se refere aos vírus hepatotrópicos, sendo que atualmente os mais conhecidos - A, B, C, D, E - são os responsáveis por mais de 90% dos casos de hepatite aguda.\n",
    "\n",
    "Os vírus da hepatite causam ampla variedade de apresentações clínicas, que vao desde um estado de portador assintomático, hepatite aguda, fulminante ou crônica até cirrose hepática e carcinoma hepatocelular.\n",
    "\n",
    "# Atributos\n",
    "\n",
    "tot_bilirubin - bilirrubina total\n",
    "\n",
    "direct_bilirubin - bilirrubina direta\n",
    "\n",
    "albumina\n",
    "\n",
    "ag_ratio - razão albumina/globulina\n",
    "\n",
    "tot_proteins - proteina total\n",
    "\n",
    "alkphos -  fosfatase alcalina\n",
    "\n",
    "sgpt - alanina aminotransferase \n",
    "\n",
    "sgot - aspartato aminotransferase\n",
    "\n",
    "\n",
    "No sangue estão presentes duas classes de proteínas, a Albumina e as Globulinas. A Albumina é uma proteína de elevado valor biológico que é encontrada no plasma do sangue e é sintetizada pelo fígado. É a principal proteína circulante no organismo humano e é responsável pelo transporte plasmático de várias substâncias.\n",
    "\n",
    "O fígado é o único órgão responsável pela produção da Albumina. As Globulinas abrangem enzimas, anticorpos e mais de 500 outras proteínas. A relação albumina/globulinas é obtida dividindo a quantidade de albumina no sangue pela quantidade de globulinas.Uma baixa relação A/G pode refletir uma superprodução de globulinas, como acontece em algumas Doenças Autoimunes ou um défice de produção de Albumina, como nos casos de cirrose. Uma elevada relação A/G indica um défice de produção de imunoglobinas.\n",
    "\n",
    "A medida das proteínas totais no sangue reflete o estado nutricional da pessoa, e pode ser usada no diagnóstico de doenças renais, hepáticas e de outros distúrbios. Se os níveis de proteínas totais estiverem alterados, devem-se fazer outros testes para identificar qual a proteína específica que está alterada, para que possa ser feito o diagnóstico correto.\n",
    "\n",
    "A fosfatase alcalina é uma enzima encontrada em diversos tecidos do corpo, incluindo fígado, ossos, rins, intestino e placenta - mas as maiores concentrações de fosfatase alcalina estão no fígado e ossos. O exame de fosfatase alcalina mede os níveis dessa enzima no sangue.\n",
    "\n",
    "O exame da alanina aminotransferase (TGP), também conhecido como ALT ou TGP, é um exame de sangue que ajuda a identificar lesões e doenças do fígado devido à presença elevada da enzima alanina aminotransferase, também chamada de transaminase glutâmico pirúvica, no sangue, que normalmente se encontra entre as 7 e 56 U/L de sangue.\n",
    "\n",
    "A enzima transaminase pirúvica (TGO) está presente dentro das células do fígado e, por isso, quando existe alguma lesão nesse órgão, provocada por um vírus ou substâncias tóxicas, por exemplo, é comum que a enzima seja liberada para a corrente sanguínea, levando a um aumento dos seus níveis no exame de sangue,\n",
    "Aspartato aminotransferase é uma enzima encontrada em todo o corpo, mas em maior quantidade no fígado. Quando há lesão de células, essa enzima é liberada na circulação e elevação do nível sanguíneo\n",
    "\n",
    "\n"
   ]
  },
  {
   "cell_type": "code",
   "execution_count": 1,
   "metadata": {},
   "outputs": [],
   "source": [
    "#Importando as bibliotecas\n",
    "import pandas as pd\n",
    "import numpy as np\n",
    "import matplotlib.pyplot as plt\n",
    "import seaborn as sns\n",
    "import plotly.express as px\n",
    "%matplotlib inline\n",
    "from sklearn.model_selection import train_test_split\n",
    "from imblearn.over_sampling import SMOTE\n",
    "import statsmodels.api as sm\n",
    "from sklearn.ensemble import RandomForestClassifier\n",
    "from sklearn.metrics import accuracy_score\n",
    "from sklearn.metrics import classification_report\n",
    "from keras.models import Sequential\n",
    "from keras.layers import Dense, Dropout\n",
    "import tensorflow as tf\n",
    "from tensorflow import keras\n",
    "import scikitplot as skplt\n",
    "from sklearn.metrics import confusion_matrix, roc_auc_score\n",
    "from sklearn.metrics import classification_report, matthews_corrcoef, accuracy_score\n",
    "from sklearn.metrics import roc_curve, auc\n",
    "import scikitplot as skplt\n"
   ]
  },
  {
   "cell_type": "code",
   "execution_count": 2,
   "metadata": {},
   "outputs": [],
   "source": [
    "#Carregando o dataset\n",
    "data = pd.read_csv('dataset.csv')"
   ]
  },
  {
   "cell_type": "code",
   "execution_count": 3,
   "metadata": {},
   "outputs": [
    {
     "data": {
      "text/html": [
       "<div>\n",
       "<style scoped>\n",
       "    .dataframe tbody tr th:only-of-type {\n",
       "        vertical-align: middle;\n",
       "    }\n",
       "\n",
       "    .dataframe tbody tr th {\n",
       "        vertical-align: top;\n",
       "    }\n",
       "\n",
       "    .dataframe thead th {\n",
       "        text-align: right;\n",
       "    }\n",
       "</style>\n",
       "<table border=\"1\" class=\"dataframe\">\n",
       "  <thead>\n",
       "    <tr style=\"text-align: right;\">\n",
       "      <th></th>\n",
       "      <th>idade</th>\n",
       "      <th>sexo</th>\n",
       "      <th>tot_bilirubin</th>\n",
       "      <th>direct_bilirubin</th>\n",
       "      <th>tot_proteins</th>\n",
       "      <th>albumina</th>\n",
       "      <th>ag_ratio</th>\n",
       "      <th>sgpt</th>\n",
       "      <th>sgot</th>\n",
       "      <th>alkphos</th>\n",
       "      <th>classe</th>\n",
       "    </tr>\n",
       "  </thead>\n",
       "  <tbody>\n",
       "    <tr>\n",
       "      <th>0</th>\n",
       "      <td>65</td>\n",
       "      <td>Mulher</td>\n",
       "      <td>0.7</td>\n",
       "      <td>0.1</td>\n",
       "      <td>187</td>\n",
       "      <td>16</td>\n",
       "      <td>18</td>\n",
       "      <td>6.8</td>\n",
       "      <td>3.3</td>\n",
       "      <td>0.90</td>\n",
       "      <td>1</td>\n",
       "    </tr>\n",
       "    <tr>\n",
       "      <th>1</th>\n",
       "      <td>62</td>\n",
       "      <td>Homem</td>\n",
       "      <td>10.9</td>\n",
       "      <td>5.5</td>\n",
       "      <td>699</td>\n",
       "      <td>64</td>\n",
       "      <td>100</td>\n",
       "      <td>7.5</td>\n",
       "      <td>3.2</td>\n",
       "      <td>0.74</td>\n",
       "      <td>1</td>\n",
       "    </tr>\n",
       "    <tr>\n",
       "      <th>2</th>\n",
       "      <td>62</td>\n",
       "      <td>Homem</td>\n",
       "      <td>7.3</td>\n",
       "      <td>4.1</td>\n",
       "      <td>490</td>\n",
       "      <td>60</td>\n",
       "      <td>68</td>\n",
       "      <td>7.0</td>\n",
       "      <td>3.3</td>\n",
       "      <td>0.89</td>\n",
       "      <td>1</td>\n",
       "    </tr>\n",
       "    <tr>\n",
       "      <th>3</th>\n",
       "      <td>58</td>\n",
       "      <td>Homem</td>\n",
       "      <td>1.0</td>\n",
       "      <td>0.4</td>\n",
       "      <td>182</td>\n",
       "      <td>14</td>\n",
       "      <td>20</td>\n",
       "      <td>6.8</td>\n",
       "      <td>3.4</td>\n",
       "      <td>1.00</td>\n",
       "      <td>1</td>\n",
       "    </tr>\n",
       "    <tr>\n",
       "      <th>4</th>\n",
       "      <td>72</td>\n",
       "      <td>Homem</td>\n",
       "      <td>3.9</td>\n",
       "      <td>2.0</td>\n",
       "      <td>195</td>\n",
       "      <td>27</td>\n",
       "      <td>59</td>\n",
       "      <td>7.3</td>\n",
       "      <td>2.4</td>\n",
       "      <td>0.40</td>\n",
       "      <td>1</td>\n",
       "    </tr>\n",
       "  </tbody>\n",
       "</table>\n",
       "</div>"
      ],
      "text/plain": [
       "   idade    sexo  tot_bilirubin  direct_bilirubin  tot_proteins  albumina  \\\n",
       "0     65  Mulher            0.7               0.1           187        16   \n",
       "1     62   Homem           10.9               5.5           699        64   \n",
       "2     62   Homem            7.3               4.1           490        60   \n",
       "3     58   Homem            1.0               0.4           182        14   \n",
       "4     72   Homem            3.9               2.0           195        27   \n",
       "\n",
       "   ag_ratio  sgpt  sgot  alkphos  classe  \n",
       "0        18   6.8   3.3     0.90       1  \n",
       "1       100   7.5   3.2     0.74       1  \n",
       "2        68   7.0   3.3     0.89       1  \n",
       "3        20   6.8   3.4     1.00       1  \n",
       "4        59   7.3   2.4     0.40       1  "
      ]
     },
     "execution_count": 3,
     "metadata": {},
     "output_type": "execute_result"
    }
   ],
   "source": [
    "#Verificando os dados\n",
    "data.head()"
   ]
  },
  {
   "cell_type": "code",
   "execution_count": 4,
   "metadata": {},
   "outputs": [
    {
     "data": {
      "text/plain": [
       "(583, 11)"
      ]
     },
     "execution_count": 4,
     "metadata": {},
     "output_type": "execute_result"
    }
   ],
   "source": [
    "#Verificando numero de linhas e colunas\n",
    "data.shape"
   ]
  },
  {
   "cell_type": "code",
   "execution_count": 5,
   "metadata": {},
   "outputs": [
    {
     "name": "stdout",
     "output_type": "stream",
     "text": [
      "<class 'pandas.core.frame.DataFrame'>\n",
      "RangeIndex: 583 entries, 0 to 582\n",
      "Data columns (total 11 columns):\n",
      " #   Column            Non-Null Count  Dtype  \n",
      "---  ------            --------------  -----  \n",
      " 0   idade             583 non-null    int64  \n",
      " 1   sexo              583 non-null    object \n",
      " 2   tot_bilirubin     583 non-null    float64\n",
      " 3   direct_bilirubin  583 non-null    float64\n",
      " 4   tot_proteins      583 non-null    int64  \n",
      " 5   albumina          583 non-null    int64  \n",
      " 6   ag_ratio          583 non-null    int64  \n",
      " 7   sgpt              583 non-null    float64\n",
      " 8   sgot              583 non-null    float64\n",
      " 9   alkphos           579 non-null    float64\n",
      " 10  classe            583 non-null    int64  \n",
      "dtypes: float64(5), int64(5), object(1)\n",
      "memory usage: 50.2+ KB\n"
     ]
    }
   ],
   "source": [
    "#Verificando os tipos e não nulos\n",
    "data.info()"
   ]
  },
  {
   "cell_type": "code",
   "execution_count": 6,
   "metadata": {},
   "outputs": [
    {
     "data": {
      "text/plain": [
       "idade               0\n",
       "sexo                0\n",
       "tot_bilirubin       0\n",
       "direct_bilirubin    0\n",
       "tot_proteins        0\n",
       "albumina            0\n",
       "ag_ratio            0\n",
       "sgpt                0\n",
       "sgot                0\n",
       "alkphos             4\n",
       "classe              0\n",
       "dtype: int64"
      ]
     },
     "execution_count": 6,
     "metadata": {},
     "output_type": "execute_result"
    }
   ],
   "source": [
    "#Verificando os dados nulos\n",
    "data.isnull().sum()"
   ]
  },
  {
   "cell_type": "code",
   "execution_count": 7,
   "metadata": {},
   "outputs": [
    {
     "data": {
      "text/plain": [
       "idade                72\n",
       "sexo                  2\n",
       "tot_bilirubin       113\n",
       "direct_bilirubin     80\n",
       "tot_proteins        263\n",
       "albumina            152\n",
       "ag_ratio            177\n",
       "sgpt                 58\n",
       "sgot                 40\n",
       "alkphos              69\n",
       "classe                2\n",
       "dtype: int64"
      ]
     },
     "execution_count": 7,
     "metadata": {},
     "output_type": "execute_result"
    }
   ],
   "source": [
    "#Verificando os dados unicos para cada variável\n",
    "data.nunique()"
   ]
  },
  {
   "cell_type": "code",
   "execution_count": 8,
   "metadata": {},
   "outputs": [
    {
     "data": {
      "text/html": [
       "<div>\n",
       "<style scoped>\n",
       "    .dataframe tbody tr th:only-of-type {\n",
       "        vertical-align: middle;\n",
       "    }\n",
       "\n",
       "    .dataframe tbody tr th {\n",
       "        vertical-align: top;\n",
       "    }\n",
       "\n",
       "    .dataframe thead th {\n",
       "        text-align: right;\n",
       "    }\n",
       "</style>\n",
       "<table border=\"1\" class=\"dataframe\">\n",
       "  <thead>\n",
       "    <tr style=\"text-align: right;\">\n",
       "      <th></th>\n",
       "      <th>idade</th>\n",
       "      <th>sexo</th>\n",
       "      <th>tot_bilirubin</th>\n",
       "      <th>direct_bilirubin</th>\n",
       "      <th>tot_proteins</th>\n",
       "      <th>albumina</th>\n",
       "      <th>ag_ratio</th>\n",
       "      <th>sgpt</th>\n",
       "      <th>sgot</th>\n",
       "      <th>alkphos</th>\n",
       "      <th>classe</th>\n",
       "    </tr>\n",
       "  </thead>\n",
       "  <tbody>\n",
       "    <tr>\n",
       "      <th>209</th>\n",
       "      <td>45</td>\n",
       "      <td>Mulher</td>\n",
       "      <td>0.9</td>\n",
       "      <td>0.3</td>\n",
       "      <td>189</td>\n",
       "      <td>23</td>\n",
       "      <td>33</td>\n",
       "      <td>6.6</td>\n",
       "      <td>3.9</td>\n",
       "      <td>NaN</td>\n",
       "      <td>1</td>\n",
       "    </tr>\n",
       "    <tr>\n",
       "      <th>241</th>\n",
       "      <td>51</td>\n",
       "      <td>Homem</td>\n",
       "      <td>0.8</td>\n",
       "      <td>0.2</td>\n",
       "      <td>230</td>\n",
       "      <td>24</td>\n",
       "      <td>46</td>\n",
       "      <td>6.5</td>\n",
       "      <td>3.1</td>\n",
       "      <td>NaN</td>\n",
       "      <td>1</td>\n",
       "    </tr>\n",
       "    <tr>\n",
       "      <th>253</th>\n",
       "      <td>35</td>\n",
       "      <td>Mulher</td>\n",
       "      <td>0.6</td>\n",
       "      <td>0.2</td>\n",
       "      <td>180</td>\n",
       "      <td>12</td>\n",
       "      <td>15</td>\n",
       "      <td>5.2</td>\n",
       "      <td>2.7</td>\n",
       "      <td>NaN</td>\n",
       "      <td>2</td>\n",
       "    </tr>\n",
       "    <tr>\n",
       "      <th>312</th>\n",
       "      <td>27</td>\n",
       "      <td>Homem</td>\n",
       "      <td>1.3</td>\n",
       "      <td>0.6</td>\n",
       "      <td>106</td>\n",
       "      <td>25</td>\n",
       "      <td>54</td>\n",
       "      <td>8.5</td>\n",
       "      <td>4.8</td>\n",
       "      <td>NaN</td>\n",
       "      <td>2</td>\n",
       "    </tr>\n",
       "  </tbody>\n",
       "</table>\n",
       "</div>"
      ],
      "text/plain": [
       "     idade    sexo  tot_bilirubin  direct_bilirubin  tot_proteins  albumina  \\\n",
       "209     45  Mulher            0.9               0.3           189        23   \n",
       "241     51   Homem            0.8               0.2           230        24   \n",
       "253     35  Mulher            0.6               0.2           180        12   \n",
       "312     27   Homem            1.3               0.6           106        25   \n",
       "\n",
       "     ag_ratio  sgpt  sgot  alkphos  classe  \n",
       "209        33   6.6   3.9      NaN       1  \n",
       "241        46   6.5   3.1      NaN       1  \n",
       "253        15   5.2   2.7      NaN       2  \n",
       "312        54   8.5   4.8      NaN       2  "
      ]
     },
     "execution_count": 8,
     "metadata": {},
     "output_type": "execute_result"
    }
   ],
   "source": [
    "#Verificando as linhas que contem nulos\n",
    "data_null = data[data['alkphos'].isnull()]\n",
    "data_null.head()"
   ]
  },
  {
   "cell_type": "code",
   "execution_count": 9,
   "metadata": {},
   "outputs": [
    {
     "data": {
      "text/plain": [
       "<AxesSubplot:>"
      ]
     },
     "execution_count": 9,
     "metadata": {},
     "output_type": "execute_result"
    },
    {
     "data": {
      "image/png": "[encoded data removed]",
      "text/plain": [
       "<Figure size 432x288 with 1 Axes>"
      ]
     },
     "metadata": {
      "needs_background": "light"
     },
     "output_type": "display_data"
    }
   ],
   "source": [
    "#Histograma da variável alkphos\n",
    "data['alkphos'].hist()"
   ]
  },
  {
   "cell_type": "code",
   "execution_count": 10,
   "metadata": {},
   "outputs": [],
   "source": [
    "#Como são poucoas linhas NAn, vamos retirá-las do dataset\n",
    "data = data.drop(data[data['alkphos'].isnull()].index)"
   ]
  },
  {
   "cell_type": "code",
   "execution_count": 11,
   "metadata": {},
   "outputs": [
    {
     "data": {
      "text/plain": [
       "idade               0\n",
       "sexo                0\n",
       "tot_bilirubin       0\n",
       "direct_bilirubin    0\n",
       "tot_proteins        0\n",
       "albumina            0\n",
       "ag_ratio            0\n",
       "sgpt                0\n",
       "sgot                0\n",
       "alkphos             0\n",
       "classe              0\n",
       "dtype: int64"
      ]
     },
     "execution_count": 11,
     "metadata": {},
     "output_type": "execute_result"
    }
   ],
   "source": [
    "#Verificando\n",
    "data.isnull().sum()"
   ]
  },
  {
   "cell_type": "code",
   "execution_count": 12,
   "metadata": {},
   "outputs": [],
   "source": [
    "#Agora vamos converter a variável sexo em valores 0(homem) e 1 (mulher)\n",
    "data['sexo'] = data['sexo'].astype('category')\n",
    "data['sexo'] = data['sexo'].cat.codes"
   ]
  },
  {
   "cell_type": "code",
   "execution_count": 13,
   "metadata": {},
   "outputs": [
    {
     "data": {
      "text/html": [
       "<div>\n",
       "<style scoped>\n",
       "    .dataframe tbody tr th:only-of-type {\n",
       "        vertical-align: middle;\n",
       "    }\n",
       "\n",
       "    .dataframe tbody tr th {\n",
       "        vertical-align: top;\n",
       "    }\n",
       "\n",
       "    .dataframe thead th {\n",
       "        text-align: right;\n",
       "    }\n",
       "</style>\n",
       "<table border=\"1\" class=\"dataframe\">\n",
       "  <thead>\n",
       "    <tr style=\"text-align: right;\">\n",
       "      <th></th>\n",
       "      <th>idade</th>\n",
       "      <th>sexo</th>\n",
       "      <th>tot_bilirubin</th>\n",
       "      <th>direct_bilirubin</th>\n",
       "      <th>tot_proteins</th>\n",
       "      <th>albumina</th>\n",
       "      <th>ag_ratio</th>\n",
       "      <th>sgpt</th>\n",
       "      <th>sgot</th>\n",
       "      <th>alkphos</th>\n",
       "      <th>classe</th>\n",
       "    </tr>\n",
       "  </thead>\n",
       "  <tbody>\n",
       "    <tr>\n",
       "      <th>count</th>\n",
       "      <td>579.000000</td>\n",
       "      <td>579.000000</td>\n",
       "      <td>579.000000</td>\n",
       "      <td>579.000000</td>\n",
       "      <td>579.000000</td>\n",
       "      <td>579.000000</td>\n",
       "      <td>579.000000</td>\n",
       "      <td>579.000000</td>\n",
       "      <td>579.000000</td>\n",
       "      <td>579.000000</td>\n",
       "      <td>579.000000</td>\n",
       "    </tr>\n",
       "    <tr>\n",
       "      <th>mean</th>\n",
       "      <td>44.782383</td>\n",
       "      <td>0.241796</td>\n",
       "      <td>3.315371</td>\n",
       "      <td>1.494128</td>\n",
       "      <td>291.366149</td>\n",
       "      <td>81.126079</td>\n",
       "      <td>110.414508</td>\n",
       "      <td>6.481693</td>\n",
       "      <td>3.138515</td>\n",
       "      <td>0.947064</td>\n",
       "      <td>1.284974</td>\n",
       "    </tr>\n",
       "    <tr>\n",
       "      <th>std</th>\n",
       "      <td>16.221786</td>\n",
       "      <td>0.428542</td>\n",
       "      <td>6.227716</td>\n",
       "      <td>2.816499</td>\n",
       "      <td>243.561863</td>\n",
       "      <td>183.182845</td>\n",
       "      <td>289.850034</td>\n",
       "      <td>1.084641</td>\n",
       "      <td>0.794435</td>\n",
       "      <td>0.319592</td>\n",
       "      <td>0.451792</td>\n",
       "    </tr>\n",
       "    <tr>\n",
       "      <th>min</th>\n",
       "      <td>4.000000</td>\n",
       "      <td>0.000000</td>\n",
       "      <td>0.400000</td>\n",
       "      <td>0.100000</td>\n",
       "      <td>63.000000</td>\n",
       "      <td>10.000000</td>\n",
       "      <td>10.000000</td>\n",
       "      <td>2.700000</td>\n",
       "      <td>0.900000</td>\n",
       "      <td>0.300000</td>\n",
       "      <td>1.000000</td>\n",
       "    </tr>\n",
       "    <tr>\n",
       "      <th>25%</th>\n",
       "      <td>33.000000</td>\n",
       "      <td>0.000000</td>\n",
       "      <td>0.800000</td>\n",
       "      <td>0.200000</td>\n",
       "      <td>175.500000</td>\n",
       "      <td>23.000000</td>\n",
       "      <td>25.000000</td>\n",
       "      <td>5.800000</td>\n",
       "      <td>2.600000</td>\n",
       "      <td>0.700000</td>\n",
       "      <td>1.000000</td>\n",
       "    </tr>\n",
       "    <tr>\n",
       "      <th>50%</th>\n",
       "      <td>45.000000</td>\n",
       "      <td>0.000000</td>\n",
       "      <td>1.000000</td>\n",
       "      <td>0.300000</td>\n",
       "      <td>208.000000</td>\n",
       "      <td>35.000000</td>\n",
       "      <td>42.000000</td>\n",
       "      <td>6.600000</td>\n",
       "      <td>3.100000</td>\n",
       "      <td>0.930000</td>\n",
       "      <td>1.000000</td>\n",
       "    </tr>\n",
       "    <tr>\n",
       "      <th>75%</th>\n",
       "      <td>58.000000</td>\n",
       "      <td>0.000000</td>\n",
       "      <td>2.600000</td>\n",
       "      <td>1.300000</td>\n",
       "      <td>298.000000</td>\n",
       "      <td>61.000000</td>\n",
       "      <td>87.000000</td>\n",
       "      <td>7.200000</td>\n",
       "      <td>3.800000</td>\n",
       "      <td>1.100000</td>\n",
       "      <td>2.000000</td>\n",
       "    </tr>\n",
       "    <tr>\n",
       "      <th>max</th>\n",
       "      <td>90.000000</td>\n",
       "      <td>1.000000</td>\n",
       "      <td>75.000000</td>\n",
       "      <td>19.700000</td>\n",
       "      <td>2110.000000</td>\n",
       "      <td>2000.000000</td>\n",
       "      <td>4929.000000</td>\n",
       "      <td>9.600000</td>\n",
       "      <td>5.500000</td>\n",
       "      <td>2.800000</td>\n",
       "      <td>2.000000</td>\n",
       "    </tr>\n",
       "  </tbody>\n",
       "</table>\n",
       "</div>"
      ],
      "text/plain": [
       "            idade        sexo  tot_bilirubin  direct_bilirubin  tot_proteins  \\\n",
       "count  579.000000  579.000000     579.000000        579.000000    579.000000   \n",
       "mean    44.782383    0.241796       3.315371          1.494128    291.366149   \n",
       "std     16.221786    0.428542       6.227716          2.816499    243.561863   \n",
       "min      4.000000    0.000000       0.400000          0.100000     63.000000   \n",
       "25%     33.000000    0.000000       0.800000          0.200000    175.500000   \n",
       "50%     45.000000    0.000000       1.000000          0.300000    208.000000   \n",
       "75%     58.000000    0.000000       2.600000          1.300000    298.000000   \n",
       "max     90.000000    1.000000      75.000000         19.700000   2110.000000   \n",
       "\n",
       "          albumina     ag_ratio        sgpt        sgot     alkphos  \\\n",
       "count   579.000000   579.000000  579.000000  579.000000  579.000000   \n",
       "mean     81.126079   110.414508    6.481693    3.138515    0.947064   \n",
       "std     183.182845   289.850034    1.084641    0.794435    0.319592   \n",
       "min      10.000000    10.000000    2.700000    0.900000    0.300000   \n",
       "25%      23.000000    25.000000    5.800000    2.600000    0.700000   \n",
       "50%      35.000000    42.000000    6.600000    3.100000    0.930000   \n",
       "75%      61.000000    87.000000    7.200000    3.800000    1.100000   \n",
       "max    2000.000000  4929.000000    9.600000    5.500000    2.800000   \n",
       "\n",
       "           classe  \n",
       "count  579.000000  \n",
       "mean     1.284974  \n",
       "std      0.451792  \n",
       "min      1.000000  \n",
       "25%      1.000000  \n",
       "50%      1.000000  \n",
       "75%      2.000000  \n",
       "max      2.000000  "
      ]
     },
     "execution_count": 13,
     "metadata": {},
     "output_type": "execute_result"
    }
   ],
   "source": [
    "data.describe()"
   ]
  },
  {
   "cell_type": "code",
   "execution_count": 14,
   "metadata": {},
   "outputs": [
    {
     "data": {
      "image/png": "[encoded data removed]",
      "text/plain": [
       "<Figure size 1296x576 with 1 Axes>"
      ]
     },
     "metadata": {
      "needs_background": "light"
     },
     "output_type": "display_data"
    }
   ],
   "source": [
    "# Criando boxplots para as variáveis\n",
    "\n",
    "cols = ['tot_proteins', 'direct_bilirubin','ag_ratio','sgpt','alkphos','tot_bilirubin','albumina']\n",
    "data2 = data[cols]\n",
    "\n",
    "\n",
    "# Tamanho da figura\n",
    "f, ax = plt.subplots(figsize = (18, 8))\n",
    "\n",
    "\n",
    "# Cria o boxplot\n",
    "ax = sns.boxplot(x = \"variable\", y = \"value\", data = pd.melt(data2))\n",
    "\n",
    "# Faz a rotação do label\n",
    "ax.set_xticklabels(ax.get_xticklabels(), rotation = 30)\n",
    "\n",
    "# Show\n",
    "plt.show()\n"
   ]
  },
  {
   "cell_type": "code",
   "execution_count": 15,
   "metadata": {},
   "outputs": [],
   "source": [
    "# Define X (variáveis explicativas) e y (variável target)\n",
    "X = data.drop('classe', axis = 1)\n",
    "y = data['classe']"
   ]
  },
  {
   "cell_type": "code",
   "execution_count": 16,
   "metadata": {},
   "outputs": [],
   "source": [
    "# Aplica a divisão com proporção 80/20\n",
    "X_treino, X_teste, y_treino, y_teste = train_test_split(X, y, test_size = 0.20, random_state = 101)"
   ]
  },
  {
   "cell_type": "code",
   "execution_count": 17,
   "metadata": {},
   "outputs": [
    {
     "data": {
      "text/plain": [
       "((463, 10), (463,))"
      ]
     },
     "execution_count": 17,
     "metadata": {},
     "output_type": "execute_result"
    }
   ],
   "source": [
    "X_treino.shape, y_treino.shape"
   ]
  },
  {
   "cell_type": "code",
   "execution_count": 18,
   "metadata": {},
   "outputs": [
    {
     "data": {
      "text/plain": [
       "((116, 10), (116,))"
      ]
     },
     "execution_count": 18,
     "metadata": {},
     "output_type": "execute_result"
    }
   ],
   "source": [
    "X_teste.shape, y_teste.shape"
   ]
  },
  {
   "cell_type": "code",
   "execution_count": 19,
   "metadata": {},
   "outputs": [
    {
     "data": {
      "text/plain": [
       "<AxesSubplot:>"
      ]
     },
     "execution_count": 19,
     "metadata": {},
     "output_type": "execute_result"
    },
    {
     "data": {
      "image/png": "[encoded data removed]",
      "text/plain": [
       "<Figure size 864x504 with 2 Axes>"
      ]
     },
     "metadata": {
      "needs_background": "light"
     },
     "output_type": "display_data"
    }
   ],
   "source": [
    "#Verificando as correlações\n",
    "corr = data.corr()\n",
    "plt.subplots(figsize = (12, 7))\n",
    "sns.heatmap(corr, cbar = True, annot = True, square = True, fmt = '.2f', annot_kws = {'size': 10})\n",
    "\n"
   ]
  },
  {
   "cell_type": "code",
   "execution_count": 20,
   "metadata": {},
   "outputs": [
    {
     "data": {
      "image/png": "[encoded data removed]",
      "text/plain": [
       "<Figure size 432x288 with 1 Axes>"
      ]
     },
     "metadata": {
      "needs_background": "light"
     },
     "output_type": "display_data"
    }
   ],
   "source": [
    "#Verificando o balanceamento da variável target\n",
    "sns.countplot(y_treino, palette=\"Set2\")\n",
    "plt.box(False)\n",
    "plt.xlabel(\"Efeito do alcool Negativo (2) / Positivo (1)\", fontsize = 11)\n",
    "plt.ylabel(\"Total de Pacientes\", fontsize = 11)\n",
    "plt.title(\"Quantidade de Classes\\n\")\n",
    "plt.show()"
   ]
  },
  {
   "cell_type": "code",
   "execution_count": 21,
   "metadata": {},
   "outputs": [],
   "source": [
    "# Seed para reproduzir o mesmo resultado\n",
    "seed = 100\n",
    "\n",
    "\n",
    "# Cria o balanceador SMOTE\n",
    "smote_bal = SMOTE(random_state = seed)\n",
    "\n",
    "# Aplica o balanceador\n",
    "X_res, y_res = smote_bal.fit_resample(X_treino, y_treino)"
   ]
  },
  {
   "cell_type": "code",
   "execution_count": 22,
   "metadata": {},
   "outputs": [
    {
     "data": {
      "image/png": "[encoded data removed]",
      "text/plain": [
       "<Figure size 432x288 with 1 Axes>"
      ]
     },
     "metadata": {
      "needs_background": "light"
     },
     "output_type": "display_data"
    }
   ],
   "source": [
    "#Verificando o balanceamento da variável target\n",
    "sns.countplot(y_res, palette=\"Set2\")\n",
    "plt.box(False)\n",
    "plt.xlabel(\"Efeito do alcool Negativo (2) / Positivo (1)\", fontsize = 11)\n",
    "plt.ylabel(\"Total de Pacientes\", fontsize = 11)\n",
    "plt.title(\"Quantidade de Classes\\n\")\n",
    "plt.show()"
   ]
  },
  {
   "cell_type": "markdown",
   "metadata": {},
   "source": [
    "# Versão 1- Regressão Logística"
   ]
  },
  {
   "cell_type": "code",
   "execution_count": 23,
   "metadata": {},
   "outputs": [
    {
     "name": "stdout",
     "output_type": "stream",
     "text": [
      "Optimization terminated successfully.\n",
      "         Current function value: 0.495892\n",
      "         Iterations 9\n",
      "                          MNLogit Regression Results                          \n",
      "==============================================================================\n",
      "Dep. Variable:                 classe   No. Observations:                  664\n",
      "Model:                        MNLogit   Df Residuals:                      653\n",
      "Method:                           MLE   Df Model:                           10\n",
      "Date:                Tue, 25 Aug 2020   Pseudo R-squ.:                  0.2846\n",
      "Time:                        16:34:45   Log-Likelihood:                -329.27\n",
      "converged:                       True   LL-Null:                       -460.25\n",
      "Covariance Type:            nonrobust   LLR p-value:                 1.656e-50\n",
      "====================================================================================\n",
      "        classe=2       coef    std err          z      P>|z|      [0.025      0.975]\n",
      "------------------------------------------------------------------------------------\n",
      "const                8.3306      1.648      5.055      0.000       5.101      11.561\n",
      "idade               -0.0207      0.006     -3.360      0.001      -0.033      -0.009\n",
      "sexo                -0.6951      0.232     -2.997      0.003      -1.150      -0.241\n",
      "tot_bilirubin       -0.0085      0.078     -0.109      0.913      -0.160       0.144\n",
      "direct_bilirubin    -0.6224      0.272     -2.286      0.022      -1.156      -0.089\n",
      "tot_proteins        -0.0020      0.001     -1.992      0.046      -0.004   -3.14e-05\n",
      "albumina            -0.0179      0.005     -3.462      0.001      -0.028      -0.008\n",
      "ag_ratio            -0.0042      0.003     -1.351      0.177      -0.010       0.002\n",
      "sgpt                -2.2149      0.511     -4.331      0.000      -3.217      -1.213\n",
      "sgot                 4.4185      1.021      4.329      0.000       2.418       6.419\n",
      "alkphos             -5.4307      1.537     -3.533      0.000      -8.444      -2.418\n",
      "====================================================================================\n"
     ]
    }
   ],
   "source": [
    "modelo_v1 = sm.MNLogit(y_res,sm.add_constant(X_res))\n",
    "result= modelo_v1.fit()\n",
    "\n",
    "stats1=result.summary()\n",
    "\n",
    "\n",
    "print(stats1)\n"
   ]
  },
  {
   "cell_type": "markdown",
   "metadata": {},
   "source": [
    "# Versão 2 - Random Forest"
   ]
  },
  {
   "cell_type": "code",
   "execution_count": 24,
   "metadata": {},
   "outputs": [
    {
     "data": {
      "text/plain": [
       "RandomForestClassifier(n_estimators=150)"
      ]
     },
     "execution_count": 24,
     "metadata": {},
     "output_type": "execute_result"
    }
   ],
   "source": [
    "from sklearn.ensemble import RandomForestClassifier\n",
    "# Cria e treina o modelo\n",
    "modelo_v2 = RandomForestClassifier(n_estimators = 150)\n",
    "modelo_v2.fit(X_res, y_res)"
   ]
  },
  {
   "cell_type": "markdown",
   "metadata": {},
   "source": []
  },
  {
   "cell_type": "code",
   "execution_count": 25,
   "metadata": {},
   "outputs": [
    {
     "name": "stdout",
     "output_type": "stream",
     "text": [
      "[[66 16]\n",
      " [17 17]]\n"
     ]
    }
   ],
   "source": [
    "# Previsões\n",
    "previsoes_v2 = modelo_v2.predict(X_teste)\n",
    "matriz_v2 = confusion_matrix(y_teste, previsoes_v2)\n",
    "print(matriz_v2)"
   ]
  },
  {
   "cell_type": "code",
   "execution_count": 26,
   "metadata": {},
   "outputs": [
    {
     "name": "stdout",
     "output_type": "stream",
     "text": [
      "              precision    recall  f1-score   support\n",
      "\n",
      "           1       0.80      0.80      0.80        82\n",
      "           2       0.52      0.50      0.51        34\n",
      "\n",
      "    accuracy                           0.72       116\n",
      "   macro avg       0.66      0.65      0.65       116\n",
      "weighted avg       0.71      0.72      0.71       116\n",
      "\n"
     ]
    }
   ],
   "source": [
    "# Relatório de classificação\n",
    "report = classification_report(y_teste, previsoes_v2)\n",
    "print(report)"
   ]
  },
  {
   "cell_type": "code",
   "execution_count": 27,
   "metadata": {},
   "outputs": [
    {
     "name": "stdout",
     "output_type": "stream",
     "text": [
      "0.652439024390244\n"
     ]
    }
   ],
   "source": [
    "# Score AUC\n",
    "print(roc_auc_score(y_teste, previsoes_v2))"
   ]
  },
  {
   "cell_type": "code",
   "execution_count": 28,
   "metadata": {},
   "outputs": [
    {
     "name": "stderr",
     "output_type": "stream",
     "text": [
      "/home/jfs/anaconda3/lib/python3.7/site-packages/sklearn/utils/deprecation.py:86: FutureWarning: Function plot_roc_curve is deprecated; This will be removed in v0.5.0. Please use scikitplot.metrics.plot_roc instead.\n",
      "  warnings.warn(msg, category=FutureWarning)\n"
     ]
    },
    {
     "data": {
      "image/png": "[encoded data removed]",
      "text/plain": [
       "<Figure size 432x288 with 1 Axes>"
      ]
     },
     "metadata": {
      "needs_background": "light"
     },
     "output_type": "display_data"
    }
   ],
   "source": [
    "# Calcula a Curva ROC para cada classe\n",
    "y_probs_v2 = modelo_v2.predict_proba(X_teste)\n",
    "skplt.metrics.plot_roc_curve(y_teste, y_probs_v2)\n",
    "plt.show()"
   ]
  },
  {
   "cell_type": "code",
   "execution_count": 29,
   "metadata": {},
   "outputs": [
    {
     "name": "stdout",
     "output_type": "stream",
     "text": [
      "0.3075930545513935\n"
     ]
    }
   ],
   "source": [
    "# Coeficiente de Correlação Matthews\n",
    "print(matthews_corrcoef(y_teste, previsoes_v2))"
   ]
  },
  {
   "cell_type": "markdown",
   "metadata": {},
   "source": [
    "## Otimização de Hiperparâmetros"
   ]
  },
  {
   "cell_type": "markdown",
   "metadata": {},
   "source": [
    "#GridSearchCV para testes de Hyperparametros\n",
    "from sklearn.model_selection import GridSearchCV\n",
    "#Lista de possíveis valores de estimators ou quantidade de árvores da floresta.\n",
    "valores_estimators = [10, 20, 50, 100, 150]\n",
    "#Lista de possíveis valores para o critério de divisão.\n",
    "valores_criterion = ['gini','entropy']\n",
    "#Lista de possíveis valores para a profundidade máxima de cada árvore\n",
    "valores_max_depth = [10, 20, 50, 100]\n",
    "#Lista de possíveis valores para os parametros min_samples_split e min_samples_leaf.\n",
    "valores_min_samples_split = [2, 5, 10,15]\n",
    "valores_min_samples_leaf = [1, 5, 10,15]\n",
    "#Define um dicionário que recebe as listas de parâmetros e valores.\n",
    "parametros_grid = dict(n_estimators=valores_estimators,\n",
    "                       criterion=valores_criterion,\n",
    "                       max_depth=valores_max_depth,\n",
    "                       min_samples_split=valores_min_samples_split,\n",
    "                       min_samples_leaf=valores_min_samples_leaf \n",
    "                      )\n"
   ]
  },
  {
   "cell_type": "markdown",
   "metadata": {},
   "source": [
    "#Instancia o GridSearch com o modelo a ser utilizado, parametros, número de folds e scoring.\n",
    "rf = RandomForestClassifier()\n",
    "grid = GridSearchCV(rf, parametros_grid, cv=5, scoring='accuracy')\n",
    "#Aplica o GridSearch passando as features e classes\n",
    "grid.fit(X_res,y_res)"
   ]
  },
  {
   "cell_type": "markdown",
   "metadata": {},
   "source": [
    "grid.best_params_"
   ]
  },
  {
   "cell_type": "markdown",
   "metadata": {},
   "source": [
    "clf = RandomForestClassifier(criterion = 'gini',\n",
    " max_depth= 20,\n",
    " min_samples_leaf= 1,\n",
    " min_samples_split= 2,\n",
    " n_estimators= 150)\n",
    "clf = clf.fit(X_res,y_res)\n",
    "valores_previstos = clf.predict(X_teste)"
   ]
  },
  {
   "cell_type": "code",
   "execution_count": 30,
   "metadata": {},
   "outputs": [],
   "source": [
    "#Verificando as métricas\n",
    "#from sklearn import metrics\n",
    "#print(metrics.classification_report(y_teste,valores_previstos, ))"
   ]
  },
  {
   "cell_type": "markdown",
   "metadata": {},
   "source": []
  },
  {
   "cell_type": "markdown",
   "metadata": {},
   "source": [
    "# Versão 3 - RF Modificado\n"
   ]
  },
  {
   "cell_type": "code",
   "execution_count": 31,
   "metadata": {},
   "outputs": [],
   "source": [
    "#Retirando a coluna tot_bilirubin e ag_ratio\n",
    "#data = data.drop('tot_bilirubin', axis = 1)\n",
    "#data = data.drop('ag_ratio', axis = 1)"
   ]
  },
  {
   "cell_type": "code",
   "execution_count": 32,
   "metadata": {},
   "outputs": [],
   "source": [
    "# Aplica a divisão com proporção 80/20\n",
    "#X_treino, X_teste, y_treino, y_teste = train_test_split(X, y, test_size = 0.20, random_state = 101)"
   ]
  },
  {
   "cell_type": "code",
   "execution_count": 33,
   "metadata": {},
   "outputs": [],
   "source": [
    "# Cria e treina o modelo\n",
    "#modelo_v3 = RandomForestClassifier(n_estimators = 150)\n",
    "#modelo_v3.fit(X_treino, y_treino)"
   ]
  },
  {
   "cell_type": "code",
   "execution_count": 34,
   "metadata": {},
   "outputs": [],
   "source": [
    "# Previsões\n",
    "#previsoes_v3 = modelo_v3.predict(X_teste)\n",
    "#matriz_v3 = confusion_matrix(y_teste, previsoes_v3)\n",
    "#print(matriz_v3)"
   ]
  },
  {
   "cell_type": "code",
   "execution_count": 35,
   "metadata": {},
   "outputs": [],
   "source": [
    "# Relatório de classificação\n",
    "#report = classification_report(y_teste, previsoes_v3)\n",
    "#print(report)"
   ]
  },
  {
   "cell_type": "code",
   "execution_count": 36,
   "metadata": {},
   "outputs": [],
   "source": [
    "# Coeficiente de Correlação Matthews\n",
    "#print(matthews_corrcoef(y_teste, previsoes_v3))"
   ]
  },
  {
   "cell_type": "markdown",
   "metadata": {},
   "source": [
    "# Versão 4 -  Deep Learning"
   ]
  },
  {
   "cell_type": "code",
   "execution_count": 65,
   "metadata": {},
   "outputs": [
    {
     "data": {
      "text/plain": [
       "(664, 10)"
      ]
     },
     "execution_count": 65,
     "metadata": {},
     "output_type": "execute_result"
    }
   ],
   "source": [
    "X_res.shape\n"
   ]
  },
  {
   "cell_type": "code",
   "execution_count": 72,
   "metadata": {},
   "outputs": [],
   "source": [
    "# Construção do modelo com Keras\n",
    "\n",
    "modelo_v4 = Sequential()\n",
    "modelo_v4.add(Dense(256, input_dim = 10, activation = 'relu'))\n",
    "modelo_v4.add(Dropout(0.5))\n",
    "modelo_v4.add(Dense(256, activation = 'relu'))\n",
    "modelo_v4.add(Dropout(0.5))\n",
    "modelo_v4.add(Dense(1, activation = 'sigmoid'))\n",
    "modelo_v4.compile(loss = 'binary_crossentropy', optimizer = 'adam', metrics = ['accuracy'])\n"
   ]
  },
  {
   "cell_type": "code",
   "execution_count": 73,
   "metadata": {},
   "outputs": [
    {
     "name": "stdout",
     "output_type": "stream",
     "text": [
      "Epoch 1/100\n",
      "5/5 [==============================] - 0s 19ms/step - loss: 30.1321 - accuracy: 0.1960 - val_loss: 22.7239 - val_accuracy: 0.0000e+00\n",
      "Epoch 2/100\n",
      "5/5 [==============================] - 0s 6ms/step - loss: 25.5434 - accuracy: 0.2194 - val_loss: 18.5842 - val_accuracy: 0.0000e+00\n",
      "Epoch 3/100\n",
      "5/5 [==============================] - 0s 7ms/step - loss: 24.1332 - accuracy: 0.2228 - val_loss: 14.6642 - val_accuracy: 0.0000e+00\n",
      "Epoch 4/100\n",
      "5/5 [==============================] - 0s 7ms/step - loss: 21.5119 - accuracy: 0.2496 - val_loss: 10.9647 - val_accuracy: 0.0000e+00\n",
      "Epoch 5/100\n",
      "5/5 [==============================] - 0s 7ms/step - loss: 20.7736 - accuracy: 0.2714 - val_loss: 7.5987 - val_accuracy: 0.0000e+00\n",
      "Epoch 6/100\n",
      "5/5 [==============================] - 0s 7ms/step - loss: 14.2574 - accuracy: 0.2730 - val_loss: 4.7181 - val_accuracy: 0.0000e+00\n",
      "Epoch 7/100\n",
      "5/5 [==============================] - 0s 7ms/step - loss: 13.0909 - accuracy: 0.2814 - val_loss: 2.2106 - val_accuracy: 0.0000e+00\n",
      "Epoch 8/100\n",
      "5/5 [==============================] - 0s 7ms/step - loss: 12.7617 - accuracy: 0.2965 - val_loss: 0.1923 - val_accuracy: 0.0000e+00\n",
      "Epoch 9/100\n",
      "5/5 [==============================] - 0s 8ms/step - loss: 9.7465 - accuracy: 0.3149 - val_loss: -1.4183 - val_accuracy: 0.0000e+00\n",
      "Epoch 10/100\n",
      "5/5 [==============================] - 0s 6ms/step - loss: 6.8672 - accuracy: 0.3317 - val_loss: -2.7521 - val_accuracy: 0.0000e+00\n",
      "Epoch 11/100\n",
      "5/5 [==============================] - 0s 7ms/step - loss: 6.7498 - accuracy: 0.3568 - val_loss: -3.9172 - val_accuracy: 0.0000e+00\n",
      "Epoch 12/100\n",
      "5/5 [==============================] - 0s 7ms/step - loss: 5.7865 - accuracy: 0.3585 - val_loss: -4.9708 - val_accuracy: 0.0000e+00\n",
      "Epoch 13/100\n",
      "5/5 [==============================] - 0s 6ms/step - loss: 3.7759 - accuracy: 0.3568 - val_loss: -5.9885 - val_accuracy: 0.0000e+00\n",
      "Epoch 14/100\n",
      "5/5 [==============================] - 0s 6ms/step - loss: 3.4292 - accuracy: 0.3451 - val_loss: -7.0095 - val_accuracy: 0.0000e+00\n",
      "Epoch 15/100\n",
      "5/5 [==============================] - 0s 6ms/step - loss: 1.0359 - accuracy: 0.3752 - val_loss: -8.0241 - val_accuracy: 0.0000e+00\n",
      "Epoch 16/100\n",
      "5/5 [==============================] - 0s 7ms/step - loss: 3.8012 - accuracy: 0.3635 - val_loss: -9.0233 - val_accuracy: 0.0000e+00\n",
      "Epoch 17/100\n",
      "5/5 [==============================] - 0s 8ms/step - loss: -0.8707 - accuracy: 0.3752 - val_loss: -10.0680 - val_accuracy: 0.0000e+00\n",
      "Epoch 18/100\n",
      "5/5 [==============================] - 0s 8ms/step - loss: -0.9116 - accuracy: 0.4188 - val_loss: -11.1083 - val_accuracy: 0.0000e+00\n",
      "Epoch 19/100\n",
      "5/5 [==============================] - 0s 9ms/step - loss: -0.9034 - accuracy: 0.4020 - val_loss: -12.1509 - val_accuracy: 0.0000e+00\n",
      "Epoch 20/100\n",
      "5/5 [==============================] - 0s 7ms/step - loss: -2.2278 - accuracy: 0.3970 - val_loss: -13.2347 - val_accuracy: 0.0000e+00\n",
      "Epoch 21/100\n",
      "5/5 [==============================] - 0s 7ms/step - loss: -2.4355 - accuracy: 0.4322 - val_loss: -14.3723 - val_accuracy: 0.0000e+00\n",
      "Epoch 22/100\n",
      "5/5 [==============================] - 0s 7ms/step - loss: -4.5870 - accuracy: 0.4288 - val_loss: -15.6078 - val_accuracy: 0.0000e+00\n",
      "Epoch 23/100\n",
      "5/5 [==============================] - 0s 7ms/step - loss: -6.2439 - accuracy: 0.4204 - val_loss: -16.9525 - val_accuracy: 0.0000e+00\n",
      "Epoch 24/100\n",
      "5/5 [==============================] - 0s 7ms/step - loss: -6.2732 - accuracy: 0.4573 - val_loss: -18.3789 - val_accuracy: 0.0000e+00\n",
      "Epoch 25/100\n",
      "5/5 [==============================] - 0s 7ms/step - loss: -7.4836 - accuracy: 0.4288 - val_loss: -19.9114 - val_accuracy: 0.0000e+00\n",
      "Epoch 26/100\n",
      "5/5 [==============================] - 0s 7ms/step - loss: -8.2589 - accuracy: 0.4657 - val_loss: -21.5189 - val_accuracy: 0.0000e+00\n",
      "Epoch 27/100\n",
      "5/5 [==============================] - 0s 6ms/step - loss: -9.0409 - accuracy: 0.4791 - val_loss: -23.2466 - val_accuracy: 0.0000e+00\n",
      "Epoch 28/100\n",
      "5/5 [==============================] - 0s 6ms/step - loss: -12.5028 - accuracy: 0.4657 - val_loss: -25.1864 - val_accuracy: 0.0000e+00\n",
      "Epoch 29/100\n",
      "5/5 [==============================] - 0s 6ms/step - loss: -6.5496 - accuracy: 0.4640 - val_loss: -27.1064 - val_accuracy: 0.0000e+00\n",
      "Epoch 30/100\n",
      "5/5 [==============================] - 0s 6ms/step - loss: -10.0583 - accuracy: 0.4707 - val_loss: -29.0207 - val_accuracy: 0.0000e+00\n",
      "Epoch 31/100\n",
      "5/5 [==============================] - 0s 6ms/step - loss: -11.9739 - accuracy: 0.4590 - val_loss: -31.1349 - val_accuracy: 0.0000e+00\n",
      "Epoch 32/100\n",
      "5/5 [==============================] - 0s 6ms/step - loss: -15.5442 - accuracy: 0.4774 - val_loss: -33.4786 - val_accuracy: 0.0000e+00\n",
      "Epoch 33/100\n",
      "5/5 [==============================] - 0s 6ms/step - loss: -16.4989 - accuracy: 0.4757 - val_loss: -36.0347 - val_accuracy: 0.0000e+00\n",
      "Epoch 34/100\n",
      "5/5 [==============================] - 0s 6ms/step - loss: -15.9306 - accuracy: 0.4757 - val_loss: -38.7875 - val_accuracy: 0.0000e+00\n",
      "Epoch 35/100\n",
      "5/5 [==============================] - 0s 7ms/step - loss: -19.2647 - accuracy: 0.4690 - val_loss: -41.8490 - val_accuracy: 0.0000e+00\n",
      "Epoch 36/100\n",
      "5/5 [==============================] - 0s 6ms/step - loss: -17.9669 - accuracy: 0.4874 - val_loss: -45.0597 - val_accuracy: 0.0000e+00\n",
      "Epoch 37/100\n",
      "5/5 [==============================] - 0s 9ms/step - loss: -19.5201 - accuracy: 0.4941 - val_loss: -48.3934 - val_accuracy: 0.0000e+00\n",
      "Epoch 38/100\n",
      "5/5 [==============================] - 0s 6ms/step - loss: -25.4935 - accuracy: 0.4925 - val_loss: -51.9345 - val_accuracy: 0.0000e+00\n",
      "Epoch 39/100\n",
      "5/5 [==============================] - 0s 7ms/step - loss: -21.5976 - accuracy: 0.4992 - val_loss: -55.7627 - val_accuracy: 0.0000e+00\n",
      "Epoch 40/100\n",
      "5/5 [==============================] - 0s 6ms/step - loss: -20.9081 - accuracy: 0.5126 - val_loss: -59.6135 - val_accuracy: 0.0000e+00\n",
      "Epoch 41/100\n",
      "5/5 [==============================] - 0s 7ms/step - loss: -26.8783 - accuracy: 0.4908 - val_loss: -63.8661 - val_accuracy: 0.0000e+00\n",
      "Epoch 42/100\n",
      "5/5 [==============================] - 0s 7ms/step - loss: -26.1396 - accuracy: 0.4925 - val_loss: -68.2508 - val_accuracy: 0.0000e+00\n",
      "Epoch 43/100\n",
      "5/5 [==============================] - 0s 6ms/step - loss: -26.4163 - accuracy: 0.5025 - val_loss: -72.9563 - val_accuracy: 0.0000e+00\n",
      "Epoch 44/100\n",
      "5/5 [==============================] - 0s 7ms/step - loss: -35.0105 - accuracy: 0.5075 - val_loss: -78.0840 - val_accuracy: 0.0000e+00\n",
      "Epoch 45/100\n",
      "5/5 [==============================] - 0s 7ms/step - loss: -40.1688 - accuracy: 0.4975 - val_loss: -83.9532 - val_accuracy: 0.0000e+00\n",
      "Epoch 46/100\n",
      "5/5 [==============================] - 0s 7ms/step - loss: -44.1506 - accuracy: 0.5159 - val_loss: -90.6426 - val_accuracy: 0.0000e+00\n",
      "Epoch 47/100\n",
      "5/5 [==============================] - 0s 7ms/step - loss: -43.3081 - accuracy: 0.5042 - val_loss: -97.6312 - val_accuracy: 0.0000e+00\n",
      "Epoch 48/100\n",
      "5/5 [==============================] - 0s 6ms/step - loss: -49.4340 - accuracy: 0.5260 - val_loss: -105.4245 - val_accuracy: 0.0000e+00\n",
      "Epoch 49/100\n",
      "5/5 [==============================] - 0s 7ms/step - loss: -41.6489 - accuracy: 0.5327 - val_loss: -113.2820 - val_accuracy: 0.0000e+00\n",
      "Epoch 50/100\n",
      "5/5 [==============================] - 0s 6ms/step - loss: -54.1276 - accuracy: 0.5142 - val_loss: -121.7035 - val_accuracy: 0.0000e+00\n",
      "Epoch 51/100\n",
      "5/5 [==============================] - 0s 7ms/step - loss: -59.3479 - accuracy: 0.5310 - val_loss: -131.0066 - val_accuracy: 0.0000e+00\n",
      "Epoch 52/100\n",
      "5/5 [==============================] - 0s 7ms/step - loss: -59.8001 - accuracy: 0.5360 - val_loss: -141.1147 - val_accuracy: 0.0000e+00\n",
      "Epoch 53/100\n",
      "5/5 [==============================] - 0s 6ms/step - loss: -63.9339 - accuracy: 0.5310 - val_loss: -151.8751 - val_accuracy: 0.0000e+00\n",
      "Epoch 54/100\n",
      "5/5 [==============================] - 0s 8ms/step - loss: -70.3545 - accuracy: 0.5260 - val_loss: -163.3436 - val_accuracy: 0.0000e+00\n",
      "Epoch 55/100\n",
      "5/5 [==============================] - 0s 6ms/step - loss: -67.3142 - accuracy: 0.5377 - val_loss: -175.3255 - val_accuracy: 0.0000e+00\n",
      "Epoch 56/100\n",
      "5/5 [==============================] - 0s 7ms/step - loss: -78.8967 - accuracy: 0.5394 - val_loss: -188.5223 - val_accuracy: 0.0000e+00\n"
     ]
    },
    {
     "name": "stdout",
     "output_type": "stream",
     "text": [
      "Epoch 57/100\n",
      "5/5 [==============================] - 0s 7ms/step - loss: -92.0579 - accuracy: 0.5410 - val_loss: -202.8159 - val_accuracy: 0.0000e+00\n",
      "Epoch 58/100\n",
      "5/5 [==============================] - 0s 6ms/step - loss: -84.3238 - accuracy: 0.5461 - val_loss: -218.5184 - val_accuracy: 0.0000e+00\n",
      "Epoch 59/100\n",
      "5/5 [==============================] - 0s 7ms/step - loss: -93.6258 - accuracy: 0.5461 - val_loss: -235.2705 - val_accuracy: 0.0000e+00\n",
      "Epoch 60/100\n",
      "5/5 [==============================] - 0s 6ms/step - loss: -114.2521 - accuracy: 0.5377 - val_loss: -253.4518 - val_accuracy: 0.0000e+00\n",
      "Epoch 61/100\n",
      "5/5 [==============================] - 0s 6ms/step - loss: -111.6524 - accuracy: 0.5444 - val_loss: -273.9772 - val_accuracy: 0.0000e+00\n",
      "Epoch 62/100\n",
      "5/5 [==============================] - 0s 6ms/step - loss: -127.9185 - accuracy: 0.5461 - val_loss: -296.3244 - val_accuracy: 0.0000e+00\n",
      "Epoch 63/100\n",
      "5/5 [==============================] - 0s 7ms/step - loss: -144.5227 - accuracy: 0.5444 - val_loss: -321.6198 - val_accuracy: 0.0000e+00\n",
      "Epoch 64/100\n",
      "5/5 [==============================] - 0s 7ms/step - loss: -147.1279 - accuracy: 0.5444 - val_loss: -348.8795 - val_accuracy: 0.0000e+00\n",
      "Epoch 65/100\n",
      "5/5 [==============================] - 0s 7ms/step - loss: -164.3509 - accuracy: 0.5394 - val_loss: -377.8265 - val_accuracy: 0.0000e+00\n",
      "Epoch 66/100\n",
      "5/5 [==============================] - 0s 7ms/step - loss: -185.3532 - accuracy: 0.5444 - val_loss: -409.5649 - val_accuracy: 0.0000e+00\n",
      "Epoch 67/100\n",
      "5/5 [==============================] - 0s 6ms/step - loss: -192.6699 - accuracy: 0.5477 - val_loss: -443.2149 - val_accuracy: 0.0000e+00\n",
      "Epoch 68/100\n",
      "5/5 [==============================] - 0s 6ms/step - loss: -205.4831 - accuracy: 0.5477 - val_loss: -479.4547 - val_accuracy: 0.0000e+00\n",
      "Epoch 69/100\n",
      "5/5 [==============================] - 0s 6ms/step - loss: -220.4540 - accuracy: 0.5410 - val_loss: -517.5981 - val_accuracy: 0.0000e+00\n",
      "Epoch 70/100\n",
      "5/5 [==============================] - 0s 6ms/step - loss: -255.0989 - accuracy: 0.5444 - val_loss: -558.0378 - val_accuracy: 0.0000e+00\n",
      "Epoch 71/100\n",
      "5/5 [==============================] - 0s 6ms/step - loss: -254.6652 - accuracy: 0.5528 - val_loss: -601.7645 - val_accuracy: 0.0000e+00\n",
      "Epoch 72/100\n",
      "5/5 [==============================] - 0s 6ms/step - loss: -315.9053 - accuracy: 0.5444 - val_loss: -648.8218 - val_accuracy: 0.0000e+00\n",
      "Epoch 73/100\n",
      "5/5 [==============================] - 0s 6ms/step - loss: -298.3020 - accuracy: 0.5511 - val_loss: -697.4962 - val_accuracy: 0.0000e+00\n",
      "Epoch 74/100\n",
      "5/5 [==============================] - 0s 8ms/step - loss: -328.7691 - accuracy: 0.5544 - val_loss: -748.0240 - val_accuracy: 0.0000e+00\n",
      "Epoch 75/100\n",
      "5/5 [==============================] - 0s 6ms/step - loss: -395.7249 - accuracy: 0.5494 - val_loss: -803.1113 - val_accuracy: 0.0000e+00\n",
      "Epoch 76/100\n",
      "5/5 [==============================] - 0s 6ms/step - loss: -399.7674 - accuracy: 0.5477 - val_loss: -860.1136 - val_accuracy: 0.0000e+00\n",
      "Epoch 77/100\n",
      "5/5 [==============================] - 0s 7ms/step - loss: -408.0995 - accuracy: 0.5561 - val_loss: -921.7393 - val_accuracy: 0.0000e+00\n",
      "Epoch 78/100\n",
      "5/5 [==============================] - 0s 6ms/step - loss: -445.7920 - accuracy: 0.5528 - val_loss: -984.7504 - val_accuracy: 0.0000e+00\n",
      "Epoch 79/100\n",
      "5/5 [==============================] - 0s 6ms/step - loss: -502.0760 - accuracy: 0.5528 - val_loss: -1052.9055 - val_accuracy: 0.0000e+00\n",
      "Epoch 80/100\n",
      "5/5 [==============================] - 0s 6ms/step - loss: -533.9262 - accuracy: 0.5528 - val_loss: -1123.1808 - val_accuracy: 0.0000e+00\n",
      "Epoch 81/100\n",
      "5/5 [==============================] - 0s 6ms/step - loss: -545.5009 - accuracy: 0.5477 - val_loss: -1197.4664 - val_accuracy: 0.0000e+00\n",
      "Epoch 82/100\n",
      "5/5 [==============================] - 0s 6ms/step - loss: -569.1508 - accuracy: 0.5528 - val_loss: -1273.4623 - val_accuracy: 0.0000e+00\n",
      "Epoch 83/100\n",
      "5/5 [==============================] - 0s 7ms/step - loss: -633.6700 - accuracy: 0.5544 - val_loss: -1352.1814 - val_accuracy: 0.0000e+00\n",
      "Epoch 84/100\n",
      "5/5 [==============================] - 0s 6ms/step - loss: -648.4250 - accuracy: 0.5528 - val_loss: -1434.9188 - val_accuracy: 0.0000e+00\n",
      "Epoch 85/100\n",
      "5/5 [==============================] - 0s 6ms/step - loss: -679.5118 - accuracy: 0.5544 - val_loss: -1520.8510 - val_accuracy: 0.0000e+00\n",
      "Epoch 86/100\n",
      "5/5 [==============================] - 0s 6ms/step - loss: -719.3904 - accuracy: 0.5511 - val_loss: -1609.7305 - val_accuracy: 0.0000e+00\n",
      "Epoch 87/100\n",
      "5/5 [==============================] - 0s 6ms/step - loss: -744.7202 - accuracy: 0.5494 - val_loss: -1701.4490 - val_accuracy: 0.0000e+00\n",
      "Epoch 88/100\n",
      "5/5 [==============================] - 0s 6ms/step - loss: -790.5673 - accuracy: 0.5544 - val_loss: -1795.6619 - val_accuracy: 0.0000e+00\n",
      "Epoch 89/100\n",
      "5/5 [==============================] - 0s 6ms/step - loss: -806.4747 - accuracy: 0.5544 - val_loss: -1890.8835 - val_accuracy: 0.0000e+00\n",
      "Epoch 90/100\n",
      "5/5 [==============================] - 0s 6ms/step - loss: -947.3184 - accuracy: 0.5528 - val_loss: -1992.1777 - val_accuracy: 0.0000e+00\n",
      "Epoch 91/100\n",
      "5/5 [==============================] - 0s 6ms/step - loss: -946.9700 - accuracy: 0.5528 - val_loss: -2096.6121 - val_accuracy: 0.0000e+00\n",
      "Epoch 92/100\n",
      "5/5 [==============================] - 0s 6ms/step - loss: -1015.0152 - accuracy: 0.5511 - val_loss: -2206.9734 - val_accuracy: 0.0000e+00\n",
      "Epoch 93/100\n",
      "5/5 [==============================] - 0s 8ms/step - loss: -1090.0444 - accuracy: 0.5544 - val_loss: -2323.1033 - val_accuracy: 0.0000e+00\n",
      "Epoch 94/100\n",
      "5/5 [==============================] - 0s 7ms/step - loss: -1047.1658 - accuracy: 0.5528 - val_loss: -2442.0964 - val_accuracy: 0.0000e+00\n",
      "Epoch 95/100\n",
      "5/5 [==============================] - 0s 6ms/step - loss: -1070.3082 - accuracy: 0.5544 - val_loss: -2563.4634 - val_accuracy: 0.0000e+00\n",
      "Epoch 96/100\n",
      "5/5 [==============================] - 0s 6ms/step - loss: -1211.6863 - accuracy: 0.5544 - val_loss: -2686.4580 - val_accuracy: 0.0000e+00\n",
      "Epoch 97/100\n",
      "5/5 [==============================] - 0s 6ms/step - loss: -1339.5446 - accuracy: 0.5561 - val_loss: -2817.0957 - val_accuracy: 0.0000e+00\n",
      "Epoch 98/100\n",
      "5/5 [==============================] - 0s 7ms/step - loss: -1310.8381 - accuracy: 0.5561 - val_loss: -2950.6055 - val_accuracy: 0.0000e+00\n",
      "Epoch 99/100\n",
      "5/5 [==============================] - 0s 8ms/step - loss: -1224.6224 - accuracy: 0.5561 - val_loss: -3084.8779 - val_accuracy: 0.0000e+00\n",
      "Epoch 100/100\n",
      "5/5 [==============================] - 0s 8ms/step - loss: -1420.4692 - accuracy: 0.5561 - val_loss: -3221.8606 - val_accuracy: 0.0000e+00\n"
     ]
    }
   ],
   "source": [
    "# Treinamos o modelo\n",
    "history = modelo_v4.fit(X_res, y_res, epochs = 100, batch_size = 128, verbose = 1, validation_split = 0.1)"
   ]
  },
  {
   "cell_type": "code",
   "execution_count": 68,
   "metadata": {},
   "outputs": [
    {
     "name": "stdout",
     "output_type": "stream",
     "text": [
      "Model: \"sequential_10\"\n",
      "_________________________________________________________________\n",
      "Layer (type)                 Output Shape              Param #   \n",
      "=================================================================\n",
      "dense_30 (Dense)             (None, 256)               2816      \n",
      "_________________________________________________________________\n",
      "dropout_20 (Dropout)         (None, 256)               0         \n",
      "_________________________________________________________________\n",
      "dense_31 (Dense)             (None, 256)               65792     \n",
      "_________________________________________________________________\n",
      "dropout_21 (Dropout)         (None, 256)               0         \n",
      "_________________________________________________________________\n",
      "dense_32 (Dense)             (None, 1)                 257       \n",
      "=================================================================\n",
      "Total params: 68,865\n",
      "Trainable params: 68,865\n",
      "Non-trainable params: 0\n",
      "_________________________________________________________________\n"
     ]
    }
   ],
   "source": [
    "# Sumário do modelo\n",
    "modelo_v4.summary()"
   ]
  },
  {
   "cell_type": "code",
   "execution_count": 69,
   "metadata": {},
   "outputs": [
    {
     "data": {
      "image/png": "[encoded data removed]",
      "text/plain": [
       "<Figure size 504x360 with 1 Axes>"
      ]
     },
     "metadata": {
      "needs_background": "light"
     },
     "output_type": "display_data"
    },
    {
     "data": {
      "image/png": "[encoded data removed]",
      "text/plain": [
       "<Figure size 504x360 with 1 Axes>"
      ]
     },
     "metadata": {
      "needs_background": "light"
     },
     "output_type": "display_data"
    }
   ],
   "source": [
    "# Sumário da Acurácia\n",
    "plt.figure(figsize=(7,5))\n",
    "plt.plot(history.history['accuracy'])\n",
    "plt.plot(history.history['val_accuracy'])\n",
    "plt.title('Acurácia do Modelo')\n",
    "plt.ylabel('Acurácia')\n",
    "plt.xlabel('Epoch')\n",
    "plt.legend(['Treino', 'Validação'], loc = 'upper left')\n",
    "plt.show()\n",
    "\n",
    "# Loss\n",
    "plt.figure(figsize=(7,5))\n",
    "plt.plot(history.history['loss'])\n",
    "plt.plot(history.history['val_loss'])\n",
    "plt.title('Erro do Modelo')\n",
    "plt.ylabel('Loss')\n",
    "plt.xlabel('Epoch')\n",
    "plt.legend(['Treino', 'Validação'], loc = 'upper left')\n",
    "plt.show()"
   ]
  },
  {
   "cell_type": "code",
   "execution_count": 70,
   "metadata": {},
   "outputs": [
    {
     "name": "stdout",
     "output_type": "stream",
     "text": [
      "[[82  0]\n",
      " [34  0]]\n"
     ]
    }
   ],
   "source": [
    "# Previsões\n",
    "previsoes_v4 = modelo_v4.predict_classes(X_teste)\n",
    "matriz_v4 = confusion_matrix(y_teste, previsoes_v4)\n",
    "print(matriz_v4)"
   ]
  },
  {
   "cell_type": "code",
   "execution_count": 71,
   "metadata": {},
   "outputs": [
    {
     "name": "stdout",
     "output_type": "stream",
     "text": [
      "              precision    recall  f1-score   support\n",
      "\n",
      "           1       0.71      1.00      0.83        82\n",
      "           2       0.00      0.00      0.00        34\n",
      "\n",
      "    accuracy                           0.71       116\n",
      "   macro avg       0.35      0.50      0.41       116\n",
      "weighted avg       0.50      0.71      0.59       116\n",
      "\n"
     ]
    },
    {
     "name": "stderr",
     "output_type": "stream",
     "text": [
      "/home/jfs/anaconda3/lib/python3.7/site-packages/sklearn/metrics/_classification.py:1221: UndefinedMetricWarning: Precision and F-score are ill-defined and being set to 0.0 in labels with no predicted samples. Use `zero_division` parameter to control this behavior.\n",
      "  _warn_prf(average, modifier, msg_start, len(result))\n"
     ]
    }
   ],
   "source": [
    "# Relatório de Classificação\n",
    "report = classification_report(y_teste, previsoes_v4)\n",
    "print(report)"
   ]
  },
  {
   "cell_type": "code",
   "execution_count": 44,
   "metadata": {},
   "outputs": [
    {
     "name": "stdout",
     "output_type": "stream",
     "text": [
      "0.5\n"
     ]
    }
   ],
   "source": [
    "# Score AUC\n",
    "print(roc_auc_score(y_teste, previsoes_v4))"
   ]
  },
  {
   "cell_type": "code",
   "execution_count": 45,
   "metadata": {},
   "outputs": [
    {
     "name": "stdout",
     "output_type": "stream",
     "text": [
      "WARNING:tensorflow:From <ipython-input-45-70549a9500e7>:7: Sequential.predict_proba (from tensorflow.python.keras.engine.sequential) is deprecated and will be removed after 2021-01-01.\n",
      "Instructions for updating:\n",
      "Please use `model.predict()` instead.\n"
     ]
    },
    {
     "data": {
      "image/png": "[encoded data removed]",
      "text/plain": [
       "<Figure size 432x288 with 1 Axes>"
      ]
     },
     "metadata": {
      "needs_background": "light"
     },
     "output_type": "display_data"
    }
   ],
   "source": [
    "# Plot das métricas\n",
    "import scikitplot as skplt\n",
    "import matplotlib.pyplot as plt\n",
    "f, (ax1) = plt.subplots(1)\n",
    "\n",
    "# Calcula a Curva ROC para cada classe\n",
    "y_probs_v4 = modelo_v4.predict_proba(X_teste)\n",
    "\n",
    "# Precisamos usar esse procedimento pois o Keras apresenta apenas a probabilidade da classe prevista\n",
    "skplt.metrics.plot_roc(y_teste, np.concatenate((1 - y_probs_v4, y_probs_v4), axis = 1), ax = ax1)\n",
    "plt.show()"
   ]
  },
  {
   "cell_type": "code",
   "execution_count": 46,
   "metadata": {},
   "outputs": [
    {
     "name": "stdout",
     "output_type": "stream",
     "text": [
      "0.0\n"
     ]
    },
    {
     "name": "stderr",
     "output_type": "stream",
     "text": [
      "/home/jfs/anaconda3/lib/python3.7/site-packages/sklearn/metrics/_classification.py:846: RuntimeWarning: invalid value encountered in double_scalars\n",
      "  mcc = cov_ytyp / np.sqrt(cov_ytyt * cov_ypyp)\n"
     ]
    }
   ],
   "source": [
    "# Coeficiente de Correlação de Matthews\n",
    "print(matthews_corrcoef(y_teste, previsoes_v4))"
   ]
  },
  {
   "cell_type": "code",
   "execution_count": null,
   "metadata": {},
   "outputs": [],
   "source": []
  }
 ],
 "metadata": {
  "kernelspec": {
   "display_name": "Python 3",
   "language": "python",
   "name": "python3"
  },
  "language_info": {
   "codemirror_mode": {
    "name": "ipython",
    "version": 3
   },
   "file_extension": ".py",
   "mimetype": "text/x-python",
   "name": "python",
   "nbconvert_exporter": "python",
   "pygments_lexer": "ipython3",
   "version": "3.7.6"
  }
 },
 "nbformat": 4,
 "nbformat_minor": 4
}
